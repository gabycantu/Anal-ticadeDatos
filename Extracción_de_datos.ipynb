{
  "cells": [
    {
      "cell_type": "markdown",
      "metadata": {
        "colab_type": "text",
        "id": "view-in-github"
      },
      "source": [
        "<a href=\"https://colab.research.google.com/github/gabycantu/Anal-ticadeDatos/blob/main/Extracci%C3%B3n_de_datos.ipynb\" target=\"_parent\"><img src=\"https://colab.research.google.com/assets/colab-badge.svg\" alt=\"Open In Colab\"/></a>"
      ]
    },
    {
      "cell_type": "code",
      "execution_count": null,
      "metadata": {
        "id": "RpswZPL6MxUR"
      },
      "outputs": [],
      "source": [
        "#Instalar librerias\n",
        "!pip install pandas\n",
        "!pip install numpy\n",
        "!pip install matplotlib"
      ]
    },
    {
      "cell_type": "code",
      "execution_count": null,
      "metadata": {
        "id": "AYXIpjKVNYML"
      },
      "outputs": [],
      "source": [
        "#Importamos el archivo de datos\n",
        "from google.colab import files\n",
        "uploaded = files.upload()"
      ]
    },
    {
      "cell_type": "code",
      "execution_count": null,
      "metadata": {
        "id": "k9Ms_9-lQikE"
      },
      "outputs": [],
      "source": [
        "#Importamos la librería: pandas\n",
        "import pandas as pd\n",
        "import io\n",
        "#Leemos el contenido del archivo\n",
        "df= pd.read_csv(io.BytesIO(uploaded['file.csv']), index_col=2) #PARA PONER COMO LLAVE O INDICE\n",
        "#df=pd.read_csv('file.csv')\n",
        "df.info()\n",
        "df\n",
        "\n",
        "#Importar archivo desde Github\n",
        "#url= 'copied_raw_github_link'\n",
        "#df= pd.read_csv(url)"
      ]
    },
    {
      "cell_type": "code",
      "execution_count": null,
      "metadata": {
        "id": "nM-E2VU4U29Q"
      },
      "outputs": [],
      "source": [
        "#Filtros básicos para variables cualitativas\n",
        "#Filtro por objeto\n",
        "filtro1=df[df[\"Sexo\"]==\"Mujeres\"]\n",
        "filtro1"
      ]
    },
    {
      "cell_type": "code",
      "execution_count": null,
      "metadata": {
        "id": "51A_6VKSVAii"
      },
      "outputs": [],
      "source": [
        "filtro2=df[df[\"Periodo\"]==2005]\n",
        "filtro2\n"
      ]
    },
    {
      "cell_type": "code",
      "execution_count": null,
      "metadata": {
        "id": "eIwAc5KNWZGc"
      },
      "outputs": [],
      "source": [
        "filtro3=df[df[\"Entidad_Federativa\"]==\"Puebla\"]\n",
        "filtro3"
      ]
    },
    {
      "cell_type": "code",
      "execution_count": null,
      "metadata": {
        "id": "DeWQMDqyYKoF"
      },
      "outputs": [],
      "source": [
        "#filtro por filas\n",
        "#filtro4=df.iloc[300:302,:]\n",
        "filtro4=df.iloc[[1000,2000,3000],:] #filas no consecutivas\n",
        "filtro4"
      ]
    },
    {
      "cell_type": "code",
      "execution_count": null,
      "metadata": {
        "id": "Q_NVmy9UY8q1"
      },
      "outputs": [],
      "source": [
        "filtro5=df.iloc[105:107,:]\n",
        "filtro5"
      ]
    },
    {
      "cell_type": "code",
      "execution_count": null,
      "metadata": {
        "id": "l4sdAeIyZK5U"
      },
      "outputs": [],
      "source": [
        "#Filtro por columnas\n",
        "filtro6=df.iloc[:,2:5] #columnas consecutivas, columnas empiezan en 0\n",
        "#filtro6= df.iloc[:,[1,4,6]] #columnas no consecutivas\n",
        "filtro6"
      ]
    },
    {
      "cell_type": "code",
      "execution_count": null,
      "metadata": {
        "id": "h-Q7-_F0ZziF"
      },
      "outputs": [],
      "source": [
        "#Filtro de filas vs columnas, para este filtro se requiere una columna de indice\n",
        "filtro7=df.loc[[\"Puebla\", \"Durango\"], [\"Poblacion_ocupada_en_la_industria_manufacturera\"]]\n",
        "filtro7"
      ]
    },
    {
      "cell_type": "code",
      "execution_count": null,
      "metadata": {
        "id": "-PBbBl8abFkc"
      },
      "outputs": [],
      "source": [
        "#filtro por cabecera\n",
        "filtro8=df.head()\n",
        "filtro8"
      ]
    },
    {
      "cell_type": "code",
      "execution_count": null,
      "metadata": {
        "id": "O6IaPDagbtoz"
      },
      "outputs": [],
      "source": [
        "#Filtros básicos para variables cuantitativas\n",
        "#Filtro por comparación\n",
        "filtro9=df[df[\"Periodo\"]>=2006]\n",
        "filtro9"
      ]
    },
    {
      "cell_type": "code",
      "execution_count": null,
      "metadata": {
        "id": "H1ILTUofb8Xh"
      },
      "outputs": [],
      "source": [
        "#filtros básicos con conectores lógicos\n",
        "#filtro y\n",
        "filtro10=df[(df[\"Periodo\"]>2006)& (df[\"Sexo\"]==\"Mujeres\")]\n",
        "filtro10"
      ]
    },
    {
      "cell_type": "code",
      "execution_count": null,
      "metadata": {
        "id": "bhOxJFKtdSdF"
      },
      "outputs": [],
      "source": [
        "#filtro o\n",
        "filtro11=df[(df[\"Periodo\"]>2006) | (df[\"Sexo\"]==\"Mujeres\")] #Alt 1 para el o \n",
        "filtro11"
      ]
    },
    {
      "cell_type": "code",
      "execution_count": null,
      "metadata": {
        "id": "ukTm8uQZd3Gq"
      },
      "outputs": [],
      "source": [
        "#filtro not alt Ñ\n",
        "filtro12= df[~(df[\"Periodo\"]>=2006) & (df[\"Sexo\"]==\"Mujeres\")]\n",
        "filtro12"
      ]
    },
    {
      "cell_type": "code",
      "execution_count": null,
      "metadata": {
        "id": "WezA0tvSevyP"
      },
      "outputs": [],
      "source": [
        "#convertir archivo filtrado a CSV\n",
        "filtro12.to_csv(\"Entregable1.csv\")"
      ]
    },
    {
      "cell_type": "code",
      "execution_count": null,
      "metadata": {
        "colab": {
          "base_uri": "https://localhost:8080/",
          "height": 17
        },
        "id": "SQ0tBg5LfWNO",
        "outputId": "fa92549d-5763-4599-cd7f-8c007f57114d"
      },
      "outputs": [
        {
          "data": {
            "application/javascript": "\n    async function download(id, filename, size) {\n      if (!google.colab.kernel.accessAllowed) {\n        return;\n      }\n      const div = document.createElement('div');\n      const label = document.createElement('label');\n      label.textContent = `Downloading \"${filename}\": `;\n      div.appendChild(label);\n      const progress = document.createElement('progress');\n      progress.max = size;\n      div.appendChild(progress);\n      document.body.appendChild(div);\n\n      const buffers = [];\n      let downloaded = 0;\n\n      const channel = await google.colab.kernel.comms.open(id);\n      // Send a message to notify the kernel that we're ready.\n      channel.send({})\n\n      for await (const message of channel.messages) {\n        // Send a message to notify the kernel that we're ready.\n        channel.send({})\n        if (message.buffers) {\n          for (const buffer of message.buffers) {\n            buffers.push(buffer);\n            downloaded += buffer.byteLength;\n            progress.value = downloaded;\n          }\n        }\n      }\n      const blob = new Blob(buffers, {type: 'application/binary'});\n      const a = document.createElement('a');\n      a.href = window.URL.createObjectURL(blob);\n      a.download = filename;\n      div.appendChild(a);\n      a.click();\n      div.remove();\n    }\n  ",
            "text/plain": [
              "<IPython.core.display.Javascript object>"
            ]
          },
          "metadata": {},
          "output_type": "display_data"
        },
        {
          "data": {
            "application/javascript": "download(\"download_84b59f39-1955-47df-9766-74eec1561727\", \"Entregable1.csv\", 8527)",
            "text/plain": [
              "<IPython.core.display.Javascript object>"
            ]
          },
          "metadata": {},
          "output_type": "display_data"
        }
      ],
      "source": [
        "#descargar archivo filtrado en csv\n",
        "from google.colab import files\n",
        "files.download(\"Entregable1.csv\")"
      ]
    }
  ],
  "metadata": {
    "colab": {
      "authorship_tag": "ABX9TyP/UVNAfsnf32bB/6pq8mPY",
      "include_colab_link": true,
      "name": "Extracción de datos",
      "provenance": []
    },
    "kernelspec": {
      "display_name": "Python 3.10.6 64-bit",
      "language": "python",
      "name": "python3"
    },
    "language_info": {
      "name": "python",
      "version": "3.10.6"
    },
    "vscode": {
      "interpreter": {
        "hash": "aee8b7b246df8f9039afb4144a1f6fd8d2ca17a180786b69acc140d282b71a49"
      }
    }
  },
  "nbformat": 4,
  "nbformat_minor": 0
}
