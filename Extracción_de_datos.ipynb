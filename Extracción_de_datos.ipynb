{
  "nbformat": 4,
  "nbformat_minor": 0,
  "metadata": {
    "colab": {
      "name": "Extracción de datos",
      "provenance": [],
      "authorship_tag": "ABX9TyP/UVNAfsnf32bB/6pq8mPY",
      "include_colab_link": true
    },
    "kernelspec": {
      "name": "python3",
      "display_name": "Python 3"
    },
    "language_info": {
      "name": "python"
    }
  },
  "cells": [
    {
      "cell_type": "markdown",
      "metadata": {
        "id": "view-in-github",
        "colab_type": "text"
      },
      "source": [
        "<a href=\"https://colab.research.google.com/github/gabycantu/Anal-ticadeDatos/blob/main/Extracci%C3%B3n_de_datos.ipynb\" target=\"_parent\"><img src=\"https://colab.research.google.com/assets/colab-badge.svg\" alt=\"Open In Colab\"/></a>"
      ]
    },
    {
      "cell_type": "code",
      "execution_count": null,
      "metadata": {
        "id": "RpswZPL6MxUR"
      },
      "outputs": [],
      "source": [
        "#Instalar librerias\n",
        "!pip install pandas\n",
        "!pip install numpy\n",
        "!pip install matplotlib"
      ]
    },
    {
      "cell_type": "code",
      "source": [
        "#Importamos el archivo de datos\n",
        "from google.colab import files\n",
        "uploaded = files.upload()"
      ],
      "metadata": {
        "id": "AYXIpjKVNYML"
      },
      "execution_count": null,
      "outputs": []
    },
    {
      "cell_type": "code",
      "source": [
        "#Importamos la librería: pandas\n",
        "import pandas as pd\n",
        "import io\n",
        "#Leemos el contenido del archivo\n",
        "df= pd.read_csv(io.BytesIO(uploaded['file.csv']), index_col=2) #PARA PONER COMO LLAVE O INDICE\n",
        "#df=pd.read_csv('file.csv')\n",
        "df.info()\n",
        "df\n",
        "\n",
        "#Importar archivo desde Github\n",
        "#url= 'copied_raw_github_link'\n",
        "#df= pd.read_csv(url)"
      ],
      "metadata": {
        "id": "k9Ms_9-lQikE"
      },
      "execution_count": null,
      "outputs": []
    },
    {
      "cell_type": "code",
      "source": [
        "#Filtros básicos para variables cualitativas\n",
        "#Filtro por objeto\n",
        "filtro1=df[df[\"Sexo\"]==\"Mujeres\"]\n",
        "filtro1"
      ],
      "metadata": {
        "id": "nM-E2VU4U29Q"
      },
      "execution_count": null,
      "outputs": []
    },
    {
      "cell_type": "code",
      "source": [
        "filtro2=df[df[\"Periodo\"]==2005]\n",
        "filtro2\n"
      ],
      "metadata": {
        "id": "51A_6VKSVAii"
      },
      "execution_count": null,
      "outputs": []
    },
    {
      "cell_type": "code",
      "source": [
        "filtro3=df[df[\"Entidad_Federativa\"]==\"Puebla\"]\n",
        "filtro3"
      ],
      "metadata": {
        "id": "eIwAc5KNWZGc"
      },
      "execution_count": null,
      "outputs": []
    },
    {
      "cell_type": "code",
      "source": [
        "#filtro por filas\n",
        "#filtro4=df.iloc[300:302,:]\n",
        "filtro4=df.iloc[[1000,2000,3000],:] #filas no consecutivas\n",
        "filtro4"
      ],
      "metadata": {
        "id": "DeWQMDqyYKoF"
      },
      "execution_count": null,
      "outputs": []
    },
    {
      "cell_type": "code",
      "source": [
        "filtro5=df.iloc[105:107,:]\n",
        "filtro5"
      ],
      "metadata": {
        "id": "Q_NVmy9UY8q1"
      },
      "execution_count": null,
      "outputs": []
    },
    {
      "cell_type": "code",
      "source": [
        "#Filtro por columnas\n",
        "filtro6=df.iloc[:,2:5] #columnas consecutivas, columnas empiezan en 0\n",
        "#filtro6= df.iloc[:,[1,4,6]] #columnas no consecutivas\n",
        "filtro6"
      ],
      "metadata": {
        "id": "l4sdAeIyZK5U"
      },
      "execution_count": null,
      "outputs": []
    },
    {
      "cell_type": "code",
      "source": [
        "#Filtro de filas vs columnas, para este filtro se requiere una columna de indice\n",
        "filtro7=df.loc[[\"Puebla\", \"Durango\"], [\"Poblacion_ocupada_en_la_industria_manufacturera\"]]\n",
        "filtro7"
      ],
      "metadata": {
        "id": "h-Q7-_F0ZziF"
      },
      "execution_count": null,
      "outputs": []
    },
    {
      "cell_type": "code",
      "source": [
        "#filtro por cabecera\n",
        "filtro8=df.head()\n",
        "filtro8"
      ],
      "metadata": {
        "id": "-PBbBl8abFkc"
      },
      "execution_count": null,
      "outputs": []
    },
    {
      "cell_type": "code",
      "source": [
        "#Filtros básicos para variables cuantitativas\n",
        "#Filtro por comparación\n",
        "filtro9=df[df[\"Periodo\"]>=2006]\n",
        "filtro9"
      ],
      "metadata": {
        "id": "O6IaPDagbtoz"
      },
      "execution_count": null,
      "outputs": []
    },
    {
      "cell_type": "code",
      "source": [
        "#filtros básicos con conectores lógicos\n",
        "#filtro y\n",
        "filtro10=df[(df[\"Periodo\"]>2006)& (df[\"Sexo\"]==\"Mujeres\")]\n",
        "filtro10"
      ],
      "metadata": {
        "id": "H1ILTUofb8Xh"
      },
      "execution_count": null,
      "outputs": []
    },
    {
      "cell_type": "code",
      "source": [
        "#filtro o\n",
        "filtro11=df[(df[\"Periodo\"]>2006) | (df[\"Sexo\"]==\"Mujeres\")] #Alt 1 para el o \n",
        "filtro11"
      ],
      "metadata": {
        "id": "bhOxJFKtdSdF"
      },
      "execution_count": null,
      "outputs": []
    },
    {
      "cell_type": "code",
      "source": [
        "#filtro not alt Ñ\n",
        "filtro12= df[~(df[\"Periodo\"]>=2006) & (df[\"Sexo\"]==\"Mujeres\")]\n",
        "filtro12"
      ],
      "metadata": {
        "id": "ukTm8uQZd3Gq"
      },
      "execution_count": null,
      "outputs": []
    },
    {
      "cell_type": "code",
      "source": [
        "#convertir archivo filtrado a CSV\n",
        "filtro12.to_csv(\"Entregable1.csv\")"
      ],
      "metadata": {
        "id": "WezA0tvSevyP"
      },
      "execution_count": null,
      "outputs": []
    },
    {
      "cell_type": "code",
      "source": [
        "#descargar archivo filtrado en csv\n",
        "from google.colab import files\n",
        "files.download(\"Entregable1.csv\")"
      ],
      "metadata": {
        "colab": {
          "base_uri": "https://localhost:8080/",
          "height": 17
        },
        "id": "SQ0tBg5LfWNO",
        "outputId": "fa92549d-5763-4599-cd7f-8c007f57114d"
      },
      "execution_count": null,
      "outputs": [
        {
          "output_type": "display_data",
          "data": {
            "text/plain": [
              "<IPython.core.display.Javascript object>"
            ],
            "application/javascript": [
              "\n",
              "    async function download(id, filename, size) {\n",
              "      if (!google.colab.kernel.accessAllowed) {\n",
              "        return;\n",
              "      }\n",
              "      const div = document.createElement('div');\n",
              "      const label = document.createElement('label');\n",
              "      label.textContent = `Downloading \"${filename}\": `;\n",
              "      div.appendChild(label);\n",
              "      const progress = document.createElement('progress');\n",
              "      progress.max = size;\n",
              "      div.appendChild(progress);\n",
              "      document.body.appendChild(div);\n",
              "\n",
              "      const buffers = [];\n",
              "      let downloaded = 0;\n",
              "\n",
              "      const channel = await google.colab.kernel.comms.open(id);\n",
              "      // Send a message to notify the kernel that we're ready.\n",
              "      channel.send({})\n",
              "\n",
              "      for await (const message of channel.messages) {\n",
              "        // Send a message to notify the kernel that we're ready.\n",
              "        channel.send({})\n",
              "        if (message.buffers) {\n",
              "          for (const buffer of message.buffers) {\n",
              "            buffers.push(buffer);\n",
              "            downloaded += buffer.byteLength;\n",
              "            progress.value = downloaded;\n",
              "          }\n",
              "        }\n",
              "      }\n",
              "      const blob = new Blob(buffers, {type: 'application/binary'});\n",
              "      const a = document.createElement('a');\n",
              "      a.href = window.URL.createObjectURL(blob);\n",
              "      a.download = filename;\n",
              "      div.appendChild(a);\n",
              "      a.click();\n",
              "      div.remove();\n",
              "    }\n",
              "  "
            ]
          },
          "metadata": {}
        },
        {
          "output_type": "display_data",
          "data": {
            "text/plain": [
              "<IPython.core.display.Javascript object>"
            ],
            "application/javascript": [
              "download(\"download_84b59f39-1955-47df-9766-74eec1561727\", \"Entregable1.csv\", 8527)"
            ]
          },
          "metadata": {}
        }
      ]
    }
  ]
}